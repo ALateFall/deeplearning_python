{
 "cells": [
  {
   "cell_type": "code",
   "execution_count": 1,
   "id": "5f043f45-2fbb-48f2-951b-1423b4215f4b",
   "metadata": {},
   "outputs": [],
   "source": [
    "import numpy as np\n",
    "import scipy\n",
    "import h5py"
   ]
  },
  {
   "cell_type": "code",
   "execution_count": 2,
   "id": "4640b3ca-b5be-4087-b0e3-ca923d0ecea9",
   "metadata": {},
   "outputs": [],
   "source": [
    "def load_datasets():\n",
    "    train_dataset = h5py.File(\"datasets/train_catvnoncat.h5\")\n",
    "    train_set_x_orig = np.array(train_dataset[\"train_set_x\"])\n",
    "    train_set_y = np.array(train_dataset[\"train_set_y\"])\n",
    "    \n",
    "    test_dataset = h5py.File(\"datasets/test_catvnoncat.h5\")\n",
    "    test_set_x_orig = np.array(test_dataset[\"test_set_x\"])\n",
    "    test_set_y = np.array(test_dataset[\"test_set_y\"])\n",
    "    list_classes = np.array(test_dataset[\"list_classes\"])\n",
    "    \n",
    "    return train_set_x_orig, train_set_y, test_set_x_orig, test_set_y, list_classes"
   ]
  },
  {
   "cell_type": "code",
   "execution_count": 3,
   "id": "c49a8271-3b36-481c-8672-7ee374048bf8",
   "metadata": {},
   "outputs": [],
   "source": [
    "def initialize_with_zeros(dim):\n",
    "    w = np.zeros((dim, 1))\n",
    "    b = 0\n",
    "    \n",
    "#     assert(type(w[0][0]) == 'float' or type(w[0][0]) == 'int')\n",
    "#     assert(type(b) == 'float' or type(b) == 'int')\n",
    "    \n",
    "    return w, b"
   ]
  },
  {
   "cell_type": "code",
   "execution_count": 4,
   "id": "468cc50f-4861-44b5-b220-ffa255011ec1",
   "metadata": {},
   "outputs": [],
   "source": [
    "def propagate(w, b, X, Y):\n",
    "    m = X.shape[1]\n",
    "    \n",
    "    A = sigmoid(np.dot(w.T, X) + b)\n",
    "    cost = (-1)*np.sum(Y*np.log(A) + (1-Y)*np.log(1-A))/m\n",
    "    \n",
    "    dw = 1/m*np.dot(X,(A-Y).T)\n",
    "    db = 1/m*np.sum(A-Y)\n",
    "    \n",
    "    cost = np.squeeze(cost)\n",
    "    \n",
    "    grads = {\n",
    "        \"dw\":dw,\n",
    "        \"db\":db\n",
    "    }\n",
    "    \n",
    "    return grads,cost"
   ]
  },
  {
   "cell_type": "code",
   "execution_count": 5,
   "id": "ca3b9fcd-d19b-4431-9dde-9404e617c47f",
   "metadata": {},
   "outputs": [],
   "source": [
    "def optimize(w, b, X, Y, num_iterations, learning_rate, print_cost = False):\n",
    "    costs = []\n",
    "    \n",
    "    for i in range(num_iterations):\n",
    "\n",
    "        \n",
    "        grads, cost = propagate(w, b, X, Y)\n",
    "        \n",
    "        dw = grads[\"dw\"]\n",
    "        db = grads[\"db\"]\n",
    "        \n",
    "        w = w - learning_rate*dw\n",
    "        b = b - learning_rate*db\n",
    "        \n",
    "        params = {\n",
    "            \"w\":w,\n",
    "            \"b\":b\n",
    "        }\n",
    "        \n",
    "        grads = {\n",
    "            \"dw\":dw,\n",
    "            \"db\":db\n",
    "        }\n",
    "        \n",
    "        if i % 100 == 0:\n",
    "            costs.append(cost)\n",
    "            \n",
    "        if i%100==0 and print_cost == True:\n",
    "            print(\"Cost after iteration %i: %f\"%(i, cost))\n",
    "    \n",
    "    return params, grads, costs"
   ]
  },
  {
   "cell_type": "code",
   "execution_count": 6,
   "id": "564fafcf-965f-4733-bc8d-769735d1a25b",
   "metadata": {},
   "outputs": [],
   "source": [
    "def predict(w, b, X):\n",
    "    \n",
    "    m = X.shape[1]\n",
    "    \n",
    "    w.reshape(X.shape[0],1)\n",
    "    Y_predict = sigmoid(np.dot(w.T, X) + b)\n",
    "    \n",
    "    for i in range(len(Y_predict[0])):\n",
    "        if Y_predict[0,i] >0.5:\n",
    "            Y_predict[0,i] = 1\n",
    "        else:\n",
    "            Y_predict[0, i] = 0\n",
    "    \n",
    "    return Y_predict"
   ]
  },
  {
   "cell_type": "code",
   "execution_count": 7,
   "id": "7074494c-cceb-4610-8bd4-3cb55f29f2da",
   "metadata": {},
   "outputs": [],
   "source": [
    "def sigmoid(x):\n",
    "    return 1/(1+np.exp(-x))"
   ]
  },
  {
   "cell_type": "code",
   "execution_count": 8,
   "id": "4c6a99a2-fc6f-4f19-a9cf-bce7e407d954",
   "metadata": {},
   "outputs": [],
   "source": [
    "# GRADED FUNCTION: model\n",
    "\n",
    "def model(X_train, Y_train, X_test, Y_test, num_iterations = 2000, learning_rate = 0.5, print_cost = False):\n",
    "    \"\"\"\n",
    "    Builds the logistic regression model by calling the function you've implemented previously\n",
    "    \n",
    "    Arguments:\n",
    "    X_train -- training set represented by a numpy array of shape (num_px * num_px * 3, m_train)\n",
    "    Y_train -- training labels represented by a numpy array (vector) of shape (1, m_train)\n",
    "    X_test -- test set represented by a numpy array of shape (num_px * num_px * 3, m_test)\n",
    "    Y_test -- test labels represented by a numpy array (vector) of shape (1, m_test)\n",
    "    num_iterations -- hyperparameter representing the number of iterations to optimize the parameters\n",
    "    learning_rate -- hyperparameter representing the learning rate used in the update rule of optimize()\n",
    "    print_cost -- Set to true to print the cost every 100 iterations\n",
    "    \n",
    "    Returns:\n",
    "    d -- dictionary containing information about the model.\n",
    "    \"\"\"\n",
    "    \n",
    "    ### START CODE HERE ###\n",
    "    \n",
    "    # initialize parameters with zeros (≈ 1 line of code)\n",
    "    w, b = initialize_with_zeros(X_train.shape[0])\n",
    "    \n",
    "    # Gradient descent (≈ 1 line of code)\n",
    "    \n",
    "#     print(\"X_train:{}\".format(X_train))\n",
    "#     print(\"Y_train:{}\".format(Y_train))\n",
    "#     print(\"X_test:{}\".format(X_test))\n",
    "#     print(\"Y_test:{}\".format(Y_test))\n",
    "#     print(\"w:\".format(w))\n",
    "#     print(\"b:\".format(b))\n",
    "    \n",
    "    params, grads, costs = optimize(w, b, X_train, Y_train, num_iterations, learning_rate, print_cost )\n",
    "    \n",
    "    # Retrieve parameters w and b from dictionary \"parameters\"\n",
    "    w = params[\"w\"]\n",
    "    b = params[\"b\"]\n",
    "    \n",
    "    # Predict test/train set examples (≈ 2 lines of code)\n",
    "    Y_prediction_train = predict(w, b, X_train)\n",
    "    Y_prediction_test = predict(w, b, X_test)\n",
    "    \n",
    "    ### END CODE HERE ###\n",
    "\n",
    "    # Print train/test Errors\n",
    "    print(\"train accuracy: {} %\".format(100 - np.mean(np.abs(Y_prediction_train - Y_train)) * 100))\n",
    "    print(\"test accuracy: {} %\".format(100 - np.mean(np.abs(Y_prediction_test - Y_test)) * 100))\n",
    "\n",
    "    \n",
    "    d = {\"costs\": costs,\n",
    "         \"Y_prediction_test\": Y_prediction_test, \n",
    "         \"Y_prediction_train\" : Y_prediction_train, \n",
    "         \"w\" : w, \n",
    "         \"b\" : b,\n",
    "         \"learning_rate\" : learning_rate,\n",
    "         \"num_iterations\": num_iterations}\n",
    "    \n",
    "    return d"
   ]
  },
  {
   "cell_type": "code",
   "execution_count": 9,
   "id": "c6911227-9801-4427-afbc-c625156017d8",
   "metadata": {},
   "outputs": [],
   "source": [
    "train_set_x_orig, train_set_y, test_set_x_orig, test_set_y, list_classes = load_datasets()"
   ]
  },
  {
   "cell_type": "code",
   "execution_count": 10,
   "id": "5b2506e7-0ac7-45cd-92f7-b7b19c3181e0",
   "metadata": {},
   "outputs": [],
   "source": [
    "train_set_x = train_set_x_orig.reshape(train_set_x_orig.shape[0], - 1).T\n",
    "test_set_x = test_set_x_orig.reshape(test_set_x_orig.shape[0], - 1).T\n",
    "train_set_y = train_set_y.reshape((1, train_set_y.shape[0]))\n",
    "test_set_y = test_set_y.reshape((1, test_set_y.shape[0]))\n",
    "\n",
    "train_set_x = train_set_x/255\n",
    "test_set_x = test_set_x/255"
   ]
  },
  {
   "cell_type": "code",
   "execution_count": 12,
   "id": "9d187601-870a-4ba8-acc2-d5640d750680",
   "metadata": {},
   "outputs": [
    {
     "name": "stdout",
     "output_type": "stream",
     "text": [
      "Cost after iteration 0: 0.693147\n",
      "Cost after iteration 100: 0.584508\n",
      "Cost after iteration 200: 0.466949\n",
      "Cost after iteration 300: 0.376007\n",
      "Cost after iteration 400: 0.331463\n",
      "Cost after iteration 500: 0.303273\n",
      "Cost after iteration 600: 0.279880\n",
      "Cost after iteration 700: 0.260042\n",
      "Cost after iteration 800: 0.242941\n",
      "Cost after iteration 900: 0.228004\n",
      "Cost after iteration 1000: 0.214820\n",
      "Cost after iteration 1100: 0.203078\n",
      "Cost after iteration 1200: 0.192544\n",
      "Cost after iteration 1300: 0.183033\n",
      "Cost after iteration 1400: 0.174399\n",
      "Cost after iteration 1500: 0.166521\n",
      "Cost after iteration 1600: 0.159305\n",
      "Cost after iteration 1700: 0.152667\n",
      "Cost after iteration 1800: 0.146542\n",
      "Cost after iteration 1900: 0.140872\n",
      "train accuracy: 99.04306220095694 %\n",
      "test accuracy: 70.0 %\n"
     ]
    }
   ],
   "source": [
    "d = model(train_set_x, train_set_y, test_set_x, test_set_y, num_iterations = 2000, learning_rate = 0.005, print_cost = True)"
   ]
  },
  {
   "cell_type": "code",
   "execution_count": null,
   "id": "f89d11bb-2121-4db0-8d9c-73a6727c0d7f",
   "metadata": {},
   "outputs": [],
   "source": []
  }
 ],
 "metadata": {
  "kernelspec": {
   "display_name": "deeplearning",
   "language": "python",
   "name": "deeplearning"
  },
  "language_info": {
   "codemirror_mode": {
    "name": "ipython",
    "version": 3
   },
   "file_extension": ".py",
   "mimetype": "text/x-python",
   "name": "python",
   "nbconvert_exporter": "python",
   "pygments_lexer": "ipython3",
   "version": "3.6.2"
  }
 },
 "nbformat": 4,
 "nbformat_minor": 5
}
